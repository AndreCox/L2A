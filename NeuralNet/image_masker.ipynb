{
 "cells": [
  {
   "cell_type": "code",
   "execution_count": 1,
   "metadata": {},
   "outputs": [],
   "source": [
    "import csv\n",
    "import numpy as np\n",
    "import matplotlib.pyplot as plt\n",
    "import pandas as pd\n",
    "from PIL import Image\n",
    "\n",
    "\n",
    "# get data from Collector/frames/*.jpg\n",
    "\n",
    "frames = []\n",
    "frameNumber = 0\n",
    "while True:\n",
    "    try:\n",
    "        # look for the next frame in the frames folder stored as jpg\n",
    "        image = Image.open('../Collector/dataset/' + str(frameNumber) + '.jpg')\n",
    "        frameNumber += 1\n",
    "        # convert to numpy array\n",
    "        image = np.array(image)\n",
    "        # add the image to the end of the frames array\n",
    "        frames = frames + [image]\n",
    "\n",
    "    except Exception as e:\n",
    "        break"
   ]
  },
  {
   "cell_type": "code",
   "execution_count": 14,
   "metadata": {},
   "outputs": [],
   "source": [
    "import cv2 as cv\n",
    "\n",
    "processed_frames = []\n",
    "\n",
    "# loop through the frames array and create a new array of images with the green masked\n",
    "for i in range(len(frames)):\n",
    "    blur = cv.GaussianBlur(frames[i], (35, 35), 0)\n",
    "    # convert the image to YUV\n",
    "    image = cv.cvtColor(blur, cv.COLOR_BGR2HSV)\n",
    "    # isolate the green channel\n",
    "    mask = cv.inRange(image, (10, 0, 40), (80, 255, 240))\n",
    "\n",
    "    # remove small blobs from the mask\n",
    "    mask = cv.erode(mask, None, iterations=4)\n",
    "    \n",
    "    ## convert the image to an array\n",
    "    array = np.array(mask)\n",
    "#\n",
    "    processed_frames = processed_frames + [array]"
   ]
  },
  {
   "cell_type": "code",
   "execution_count": 18,
   "metadata": {},
   "outputs": [
    {
     "data": {
      "text/plain": [
       "<matplotlib.image.AxesImage at 0x19747f14730>"
      ]
     },
     "execution_count": 18,
     "metadata": {},
     "output_type": "execute_result"
    },
    {
     "data": {
      "image/png": "[encoded data removed]",
      "text/plain": [
       "<Figure size 432x288 with 1 Axes>"
      ]
     },
     "metadata": {
      "needs_background": "light"
     },
     "output_type": "display_data"
    }
   ],
   "source": [
    "#show the first image\n",
    "plt.imshow(processed_frames[0])"
   ]
  },
  {
   "cell_type": "code",
   "execution_count": null,
   "metadata": {},
   "outputs": [],
   "source": [
    "import keras as ks\n",
    "\n",
    "# create a model that produces the processed images from the raw images\n",
    "model = ks.models.Sequential()\n",
    "model.add(ks.layers.Conv2D(32, (3, 3), activation='relu', input_shape=(240, 320, 1)))\n",
    "model.add(ks.layers.MaxPooling2D((2, 2)))\n",
    "model.add(ks.layers.Conv2D(64, (3, 3), activation='relu'))\n",
    "model.add(ks.layers.MaxPooling2D((2, 2)))\n",
    "model.add(ks.layers.Conv2D(64, (3, 3), activation='relu'))\n",
    "model.add(ks.layers.Flatten())\n",
    "model.add(ks.layers.Dense(64, activation='relu'))\n",
    "model.add(ks.layers.Dense(1))\n",
    "\n"
   ]
  }
 ],
 "metadata": {
  "interpreter": {
   "hash": "378d69bd97ad364dd3f4c8a54bd8bc230123884ca59cc354a4b2ef01c00a5129"
  },
  "kernelspec": {
   "display_name": "Python 3.9.6 64-bit",
   "language": "python",
   "name": "python3"
  },
  "language_info": {
   "codemirror_mode": {
    "name": "ipython",
    "version": 3
   },
   "file_extension": ".py",
   "mimetype": "text/x-python",
   "name": "python",
   "nbconvert_exporter": "python",
   "pygments_lexer": "ipython3",
   "version": "3.9.6"
  },
  "orig_nbformat": 4
 },
 "nbformat": 4,
 "nbformat_minor": 2
}
